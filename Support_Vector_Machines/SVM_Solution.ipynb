{
 "cells": [
  {
   "cell_type": "code",
   "execution_count": 2,
   "id": "47d033d5-a2f8-4df7-a72a-4011c9a13f16",
   "metadata": {},
   "outputs": [],
   "source": [
    "import pandas as pd\n",
    "from sklearn.model_selection import train_test_split\n",
    "from sklearn.svm import SVC\n",
    "from sklearn.ensemble import RandomForestClassifier\n",
    "from sklearn.linear_model import LogisticRegression\n",
    "from sklearn.preprocessing import StandardScaler\n",
    "from sklearn.metrics import accuracy_score"
   ]
  },
  {
   "cell_type": "code",
   "execution_count": 3,
   "id": "cd9a4ad0-ad78-433a-92e7-4801a3340def",
   "metadata": {},
   "outputs": [
    {
     "name": "stdout",
     "output_type": "stream",
     "text": [
      "Accuracy with linear kernel: 0.9288\n",
      "Accuracy with poly kernel: 0.7715\n",
      "Accuracy with rbf kernel: 0.9366\n",
      "Accuracy with Logistic Regression (scaled): 0.9227\n"
     ]
    }
   ],
   "source": [
    "# Load dataset from UCI\n",
    "url = \"https://archive.ics.uci.edu/ml/machine-learning-databases/spambase/spambase.data\"\n",
    "data = pd.read_csv(url, header=None)\n",
    "\n",
    "# Split data into features (X) and labels (y)\n",
    "X = data.iloc[:, :-1]  # Features (all columns except the last one)\n",
    "y = data.iloc[:, -1]   # Labels (the last column)\n",
    "\n",
    "# Split the dataset into 75% training and 25% testing\n",
    "X_train, X_test, y_train, y_test = train_test_split(X, y, test_size=0.25, random_state=42)\n",
    "\n",
    "# Scale the data (important for SVM and Logistic Regression)\n",
    "scaler = StandardScaler()\n",
    "X_train_scaled = scaler.fit_transform(X_train)\n",
    "X_test_scaled = scaler.transform(X_test)\n",
    "\n",
    "# Define SVM models with different kernels\n",
    "kernels = ['linear', 'poly', 'rbf']\n",
    "svm_models = {kernel: SVC(kernel=kernel, random_state=42) for kernel in kernels}\n",
    "\n",
    "# Train and evaluate each SVM model\n",
    "\n",
    "for kernel, model in svm_models.items():\n",
    "    model.fit(X_train_scaled, y_train)  # Train on scaled data\n",
    "    y_pred = model.predict(X_test_scaled)  # Test on scaled data\n",
    "    accuracy = accuracy_score(y_test, y_pred)\n",
    "    print(f\"Accuracy with {kernel} kernel: {accuracy:.4f}\")\n",
    "\n",
    "# Logistic Regression (with increased max_iter)\n",
    "lr_model = LogisticRegression(max_iter=2000, random_state=42)\n",
    "lr_model.fit(X_train_scaled, y_train)\n",
    "y_pred_lr = lr_model.predict(X_test_scaled)\n",
    "lr_accuracy = accuracy_score(y_test, y_pred_lr)\n",
    "print(f\"Accuracy with Logistic Regression (scaled): {lr_accuracy:.4f}\")\n"
   ]
  },
  {
   "cell_type": "code",
   "execution_count": 4,
   "id": "6ae5833c-28da-4f66-877b-4f4b7a0b44ad",
   "metadata": {},
   "outputs": [
    {
     "name": "stdout",
     "output_type": "stream",
     "text": [
      "Accuracy with linear kernel: 0.9288\n",
      "Accuracy with poly kernel: 0.7715\n",
      "Accuracy with rbf kernel: 0.9366\n",
      "Accuracy with Logistic Regression (scaled): 0.9227\n",
      "Accuracy with Random Forest: 0.9583\n"
     ]
    }
   ],
   "source": [
    "# For Bonus 3 Points I am comparing SVM Models with Random Forest classifier\n",
    "# Load dataset from UCI (URL)\n",
    "url = \"https://archive.ics.uci.edu/ml/machine-learning-databases/spambase/spambase.data\"\n",
    "data = pd.read_csv(url, header=None)\n",
    "\n",
    "# Split data into features (X) and labels (y)\n",
    "X = data.iloc[:, :-1]  # Features (all columns except the last one)\n",
    "y = data.iloc[:, -1]   # Labels (the last column)\n",
    "\n",
    "# Split the dataset into 75% training and 25% testing\n",
    "X_train, X_test, y_train, y_test = train_test_split(X, y, test_size=0.25, random_state=42)\n",
    "\n",
    "# Scale the data (important for SVM and Logistic Regression)\n",
    "scaler = StandardScaler()\n",
    "X_train_scaled = scaler.fit_transform(X_train)\n",
    "X_test_scaled = scaler.transform(X_test)\n",
    "\n",
    "# Define SVM models with different kernels\n",
    "kernels = ['linear', 'poly', 'rbf']\n",
    "svm_models = {kernel: SVC(kernel=kernel, random_state=42) for kernel in kernels}\n",
    "\n",
    "# Train and evaluate each SVM model\n",
    "for kernel, model in svm_models.items():\n",
    "\n",
    "    model.fit(X_train_scaled, y_train)  # Train on scaled data\n",
    "    y_pred = model.predict(X_test_scaled)  # Test on scaled data\n",
    "    accuracy = accuracy_score(y_test, y_pred)\n",
    "    print(f\"Accuracy with {kernel} kernel: {accuracy:.4f}\")\n",
    "\n",
    "# Logistic Regression (with increased max_iter)\n",
    "lr_model = LogisticRegression(max_iter=2000, random_state=42)\n",
    "lr_model.fit(X_train_scaled, y_train)\n",
    "y_pred_lr = lr_model.predict(X_test_scaled)\n",
    "lr_accuracy = accuracy_score(y_test, y_pred_lr)\n",
    "print(f\"Accuracy with Logistic Regression (scaled): {lr_accuracy:.4f}\")\n",
    "\n",
    "# Random Forest Classifier\n",
    "rf_model = RandomForestClassifier(random_state=42)\n",
    "rf_model.fit(X_train, y_train)  # Random Forest doesn't need scaling\n",
    "y_pred_rf = rf_model.predict(X_test)\n",
    "rf_accuracy = accuracy_score(y_test, y_pred_rf)\n",
    "print(f\"Accuracy with Random Forest: {rf_accuracy:.4f}\")"
   ]
  },
  {
   "cell_type": "code",
   "execution_count": null,
   "id": "87836a8c-aefa-4b27-9138-1d6f37495549",
   "metadata": {},
   "outputs": [],
   "source": []
  },
  {
   "cell_type": "code",
   "execution_count": null,
   "id": "f636fe46-f308-4321-bc08-1f3a4272bf54",
   "metadata": {},
   "outputs": [],
   "source": []
  }
 ],
 "metadata": {
  "kernelspec": {
   "display_name": "Python 3 (ipykernel)",
   "language": "python",
   "name": "python3"
  },
  "language_info": {
   "codemirror_mode": {
    "name": "ipython",
    "version": 3
   },
   "file_extension": ".py",
   "mimetype": "text/x-python",
   "name": "python",
   "nbconvert_exporter": "python",
   "pygments_lexer": "ipython3",
   "version": "3.10.14"
  }
 },
 "nbformat": 4,
 "nbformat_minor": 5
}
